{
 "cells": [
  {
   "cell_type": "code",
   "execution_count": 2,
   "metadata": {
    "collapsed": true
   },
   "outputs": [],
   "source": [
    "import pandas as pd\n",
    "import numpy as np\n",
    "from numpy import linalg\n",
    "import matplotlib.pyplot as plt\n",
    "import seaborn as sbn\n",
    "from scipy.stats import invgamma\n",
    "import logging"
   ]
  },
  {
   "cell_type": "code",
   "execution_count": 3,
   "metadata": {},
   "outputs": [
    {
     "name": "stdout",
     "output_type": "stream",
     "text": [
      "now in dir:  /Users/Jeppe/Projects/BayesFactorModel\n"
     ]
    }
   ],
   "source": [
    "from notebookutils import root_dir; root_dir()"
   ]
  },
  {
   "cell_type": "code",
   "execution_count": 4,
   "metadata": {
    "collapsed": true
   },
   "outputs": [],
   "source": [
    "from model.utils import read_clean_kv17, read_testdata1, read_party_keys, matrix, vector, party_name_from_key, generate_Tau_trace_df\n",
    "from model.distributionplotter import DistributionPlotter\n",
    "from model.traceplotter import TracePlotter\n",
    "from model.parameterframe import ParameterFrame\n",
    "from model.parameters import Parameters"
   ]
  },
  {
   "cell_type": "code",
   "execution_count": 5,
   "metadata": {
    "collapsed": true
   },
   "outputs": [],
   "source": [
    "np.random.seed(100)"
   ]
  },
  {
   "cell_type": "code",
   "execution_count": 6,
   "metadata": {
    "collapsed": true
   },
   "outputs": [],
   "source": [
    "data = read_clean_kv17(drop_party_key = True)\n",
    "labels = read_party_keys()"
   ]
  },
  {
   "cell_type": "code",
   "execution_count": 7,
   "metadata": {},
   "outputs": [
    {
     "name": "stdout",
     "output_type": "stream",
     "text": [
      "(1215, 15)\n"
     ]
    }
   ],
   "source": [
    "data = matrix(data) #making testing different data set simple"
   ]
  },
  {
   "cell_type": "code",
   "execution_count": 8,
   "metadata": {
    "collapsed": true
   },
   "outputs": [],
   "source": [
    "sigma_array = np.array([np.random.normal()**2 for _ in range(15)])\n",
    "F = np.matrix([np.random.normal(size=3) for _ in range(1215)])\n",
    "Beta = np.matrix(np.random.normal(size=(15,3)))\n",
    "Ystar = np.matrix(np.random.normal(size=(1215,15)))"
   ]
  },
  {
   "cell_type": "code",
   "execution_count": 9,
   "metadata": {
    "collapsed": true
   },
   "outputs": [],
   "source": [
    "tau = [- np.inf] + [-2, -0.5, 0.5, 2] + [np.inf]\n",
    "Tau = dict()\n",
    "for i in range(15):\n",
    "    Tau[i] = tau"
   ]
  },
  {
   "cell_type": "code",
   "execution_count": 10,
   "metadata": {},
   "outputs": [],
   "source": [
    "import numpy as np\n",
    "from numpy import linalg\n",
    "from scipy.stats import invgamma\n",
    "from scipy.stats import truncnorm\n",
    "import logging\n",
    "\n",
    "from model.utils import vector\n",
    "\n",
    "\n",
    "class OrderedProbitGibbsSampler():\n",
    "\n",
    "    logging.basicConfig(format='%(asctime)s : %(levelname)s : %(message)s', level=logging.INFO)\n",
    "\n",
    "    def __init__(self, n_factors, data, n_answers):\n",
    "\n",
    "        self.y = data\n",
    "        self.k = n_factors\n",
    "        self.p = data.shape[1]\n",
    "        self.T = data.shape[0]\n",
    "        self.I_k = np.identity(self.k)\n",
    "        self.I_p = np.identity(self.p)\n",
    "        self.n_answers = n_answers\n",
    "        \n",
    "        self.v = 0.5\n",
    "        self.s_sq = 2\n",
    "        self.C0 = 2\n",
    "        self.mu0 = 1\n",
    "\n",
    "        self.Beta_list = list()\n",
    "        self.Sigma_list = list()\n",
    "        self.F_list = list()\n",
    "        self.Tau_list = list()\n",
    "        self.Ystar_list = list()\n",
    "        \n",
    "        print('number of variables:', self.p, ' number of observations:', self.T)\n",
    "\n",
    "    def f_t(self, Beta, Sigma, t):\n",
    "        \"\"\"Posterior of f_t\"\"\"\n",
    "\n",
    "        y_t = self.Ystar[[t]].T\n",
    "        S_inv = linalg.inv(Sigma * self.I_p)\n",
    "\n",
    "        scale = linalg.inv(self.I_k + np.dot(np.dot(Beta.T, S_inv), Beta))\n",
    "        loc = vector(np.dot(np.dot(np.dot(scale, Beta.T), S_inv), y_t))\n",
    "\n",
    "        return np.random.multivariate_normal(loc, scale)\n",
    "\n",
    "    def Beta_i(self, Sigma, F, i):\n",
    "\n",
    "        if i < self.k:\n",
    "\n",
    "            C_i = self.C_i(F, Sigma, i)\n",
    "            m_i = self.m_i(C_i, F, Sigma, i)\n",
    "\n",
    "            B_i = np.random.multivariate_normal(m_i, C_i)\n",
    "            if B_i[i] < 0:\n",
    "                # print(B_i[i])  # possible bug\n",
    "                #B_i = np.random.multivariate_normal(m_i, C_i)\n",
    "                B_i[i] = 0\n",
    "\n",
    "            if i < self.k:\n",
    "                B_i = np.append(B_i, np.zeros(self.k - i - 1))\n",
    "\n",
    "        elif i >= self.k:\n",
    "\n",
    "            C_k = self.C_k(F, Sigma, i)\n",
    "            m_k = self.m_k(C_k, F, Sigma, i)\n",
    "\n",
    "            B_i = np.random.multivariate_normal(m_k, C_k)\n",
    "\n",
    "        else:\n",
    "            raise ValueError('k is {0}, i is {1} - Beta_i probs'.format(self.k, i))\n",
    "\n",
    "        return vector(B_i)\n",
    "\n",
    "\n",
    "    def C_i(self, F, Sigma, i):\n",
    "        \"\"\"If i <= k \"\"\"\n",
    "\n",
    "        F_i = F.T[:i + 1].T\n",
    "        sigma_i = Sigma[i]\n",
    "        identity_i = np.identity(i + 1)\n",
    "\n",
    "        return linalg.inv((1 / self.C0) * identity_i + (1 / sigma_i) * np.dot(F_i.T, F_i))\n",
    "\n",
    "    def C_k(self, F, Sigma, i):\n",
    "        \"\"\"if i > k\"\"\"\n",
    "\n",
    "        sigma_i = Sigma[i]\n",
    "        return linalg.inv((1 / self.C0) * self.I_k + (1 / sigma_i) * np.dot(F.T, F))\n",
    "\n",
    "    def m_i(self, C_i, F, Sigma, i):\n",
    "        \"\"\"If i <= k \"\"\"\n",
    "\n",
    "        F_i = F[:, :i + 1]  # 2000 X i\n",
    "        sigma_i = Sigma[i]  # 1 x 1\n",
    "        ones_i = np.matrix(np.ones(i + 1)).T\n",
    "        y_i = self.Ystar[:, [i]] #changed to Ystar\n",
    "        tmp = (1 / self.C0) * self.mu0 * ones_i + (1 / sigma_i) * np.dot(F_i.T, y_i)\n",
    "        return vector(np.dot(C_i, tmp))\n",
    "\n",
    "    def m_k(self, C_k, F, Sigma, i):\n",
    "        \"\"\"if i > k\"\"\"\n",
    "\n",
    "        sigma_i = Sigma[i]  # 1 x 1\n",
    "        ones_k = np.matrix(np.ones(self.k)).T\n",
    "        y_i = self.Ystar[:, [i]] #changed to Ystar\n",
    "\n",
    "        tmp = (1 / self.C0) * self.mu0 * ones_k + (1 / sigma_i) * np.dot(F.T, y_i)\n",
    "        return vector(np.dot(C_k, tmp))\n",
    "\n",
    "    def calc_Beta(self):\n",
    "\n",
    "        B = np.matrix([self.Beta_i(self.Sigma, self.F, i) for i in range(self.p)])\n",
    "        self.Beta_list.append(B)\n",
    "        return B\n",
    "\n",
    "    def calc_F(self):\n",
    "\n",
    "        F = np.matrix([self.f_t(self.Beta, self.Sigma, t) for t in range(self.T)])\n",
    "        self.add('F', F)\n",
    "        return F\n",
    "\n",
    "    def calc_Ystar(self):\n",
    "        \n",
    "        #defined here to not make multiple call of dot product (specially for Psi)\n",
    "        Y = self.y\n",
    "        Psi = self.Psi\n",
    "        \n",
    "        Ystar = np.matrix([self.calc_Ystar_i(Psi[i], Y[i]) for i in range(self.T)])\n",
    "        self.add('Ystar', Ystar)\n",
    "        return Ystar\n",
    "    \n",
    "    def calc_Ystar_i(self, Psi_i, Y_i):\n",
    "            \n",
    "        Y_star_i = list()\n",
    "        for question in range(self.p):\n",
    "            psi_i_j = Psi_i[0,question]\n",
    "            y_i_j = self.get_y_i_j(Y_i,question)\n",
    "            lb, ub = self.get_bounds(y_i_j, question)\n",
    "            Y_star_i.append(self.calc_Ystar_i_j(lb, ub, psi_i_j)) \n",
    "            \n",
    "        return Y_star_i\n",
    "\n",
    "    def calc_Ystar_i_j(self, lower_bound, upper_bound, mean):\n",
    "        #weird implementation of python required following:\n",
    "        ub = upper_bound - mean\n",
    "        lb = lower_bound - mean\n",
    "        return truncnorm.rvs(a = lb, b = ub, loc = mean, scale = 1)\n",
    "\n",
    "    def get_bounds(self, y_i_j, question):\n",
    "        \n",
    "        tau = self.Tau[question]\n",
    "        upper_bound = tau[y_i_j]\n",
    "        lower_bound = tau[y_i_j - 1]\n",
    "        return lower_bound, upper_bound\n",
    "    \n",
    "    @staticmethod\n",
    "    def get_y_i_j(Y_i, question):\n",
    "        \"\"\"To handle unfortunate 0'es\"\"\"\n",
    "        res = Y_i[0, question]\n",
    "        if res == 0:\n",
    "            res = 3\n",
    "            \n",
    "        return res\n",
    "    \n",
    "    def calc_Tau(self):\n",
    "        \n",
    "        Tau = dict()\n",
    "        for question in range(self.p):\n",
    "            Tau[question] = self.calc_Tau_p(question)\n",
    "            \n",
    "        self.add('Tau', Tau)\n",
    "        return Tau\n",
    "    \n",
    "    def calc_Tau_p(self, p):\n",
    "        \"\"\"Cutpoints/answers for given quiestion p\"\"\"\n",
    "        \n",
    "        _tau = [self.calc_tau_l_p(p, l) for l in range(1, self.n_answers)]\n",
    "        return [- np.inf] + _tau + [np.inf]\n",
    "    \n",
    "    def calc_tau_l_p(self, p, l):\n",
    "        \n",
    "        _ , Ystar_max = self.get_Ystar_min_max(p, l) \n",
    "        Ystar_min, _ = self.get_Ystar_min_max(p, l + 1)\n",
    "        l_plus = self.get_tau_l_p(p, l+1)\n",
    "        l_minus = self.get_tau_l_p(p, l-1)\n",
    "        _min = min(Ystar_min, l_plus)\n",
    "        _max = max(Ystar_max, l_minus)\n",
    "        \n",
    "        #print('tau', 'p=',p,', l=',l)\n",
    "        #print(l_plus, Ystar_min)\n",
    "        #print(l_minus, Ystar_max)\n",
    "        \n",
    "        try:\n",
    "            return np.random.uniform(_min, _max)\n",
    "        except OverflowError as e:\n",
    "            print(_min, _max)\n",
    "            raise e\n",
    "        \n",
    "    def get_Ystar_min_max(self, question, answer):\n",
    "        \"\"\"\n",
    "        answer is the answer of question (1, 2, 3, 4, 5)\"\"\"\n",
    "        Y_l = self.y[:,question]\n",
    "        Ystar_l = self.Ystar[:,question]\n",
    "        \n",
    "        #Ystar observation where y_l == 0\n",
    "        Ystar_legal = []\n",
    " \n",
    "        for i in range(self.T):\n",
    "            if Y_l[i] == answer :\n",
    "                Ystar_legal.append(Ystar_l[i])\n",
    "        return float(min(Ystar_legal)), float(max(Ystar_legal))\n",
    "    \n",
    "    def get_tau_l_p(self, p, l):\n",
    "        return self.Tau[p][l]\n",
    "        \n",
    "    @property\n",
    "    def Beta(self):\n",
    "        return self.Beta_list[-1]\n",
    "\n",
    "    @property\n",
    "    def F(self):\n",
    "        return self.F_list[-1]\n",
    "\n",
    "    @property\n",
    "    def Sigma(self):\n",
    "        #return self.Sigma_list[-1]\n",
    "        return [1 for _ in range(self.p)]\n",
    "\n",
    "    @property\n",
    "    def Psi(self):\n",
    "        return np.dot(self.F ,self.Beta.T)\n",
    "    \n",
    "    @property\n",
    "    def Tau(self):\n",
    "        return self.Tau_list[-1]\n",
    "\n",
    "    @property\n",
    "    def Ystar(self):\n",
    "        return self.Ystar_list[-1]\n",
    "    \n",
    "    def add(self, param, value):\n",
    "        \"\"\" add to Sigma_list, Beta_list or F_list\n",
    "\n",
    "        Parameters\n",
    "        ==========\n",
    "        param: (str)\n",
    "            string that should be of {'Sigma', 'F', 'Beta'}\n",
    "        value: (obj)\n",
    "            appropriate object for given list\n",
    "\n",
    "        \"\"\"\n",
    "\n",
    "        if param == 'Sigma':\n",
    "            self.Sigma_list.append(value)\n",
    "            \n",
    "        elif param == 'Tau':\n",
    "            self.Tau_list.append(value)\n",
    "            \n",
    "        elif param == 'Ystar':\n",
    "            self.Ystar_list.append(value)\n",
    "\n",
    "        elif param == 'F':\n",
    "            self.F_list.append(value)\n",
    "\n",
    "        elif param == 'Beta':\n",
    "            self.Beta_list.append(value)\n",
    "\n",
    "        else:\n",
    "            raise ValueError(\"Param must be in {'F', 'Sigma', 'Beta', 'Ystar', 'Tau'}\")\n",
    "\n",
    "    def sampler(self, n_iterations):\n",
    "\n",
    "        logging.info(\"Sampling begins\")\n",
    "        for i in range(n_iterations):\n",
    "\n",
    "            self.calc_Ystar()\n",
    "            self.calc_Tau()\n",
    "            self.calc_F()\n",
    "            self.calc_Beta()\n",
    "            if (i % 5 == 0):\n",
    "                logging.info(\"run {0} simulations\".format(i))\n"
   ]
  },
  {
   "cell_type": "code",
   "execution_count": 11,
   "metadata": {},
   "outputs": [
    {
     "name": "stdout",
     "output_type": "stream",
     "text": [
      "number of variables: 15  number of observations: 1215\n"
     ]
    }
   ],
   "source": [
    "gs = OrderedProbitGibbsSampler(3, data, n_answers = 5)\n",
    "gs.add('Sigma',sigma_array)\n",
    "gs.add('F', F)\n",
    "gs.add('Beta',Beta)\n",
    "gs.add('Tau', Tau)"
   ]
  },
  {
   "cell_type": "code",
   "execution_count": 12,
   "metadata": {},
   "outputs": [
    {
     "name": "stderr",
     "output_type": "stream",
     "text": [
      "2018-11-18 15:45:58,553 : INFO : Sampling begins\n",
      "2018-11-18 15:46:02,219 : INFO : run 0 simulations\n"
     ]
    }
   ],
   "source": [
    "gs.sampler(3)"
   ]
  },
  {
   "cell_type": "code",
   "execution_count": 13,
   "metadata": {
    "collapsed": true
   },
   "outputs": [],
   "source": [
    "beta_params = ParameterFrame(gs.Beta_list, 'beta')\n",
    "beta_trace_estimation = beta_params.get_trace_df()\n",
    "beta_trace_estimation.to_pickle('data//probit_v2_estimation_beta_trace_df.pkl')"
   ]
  },
  {
   "cell_type": "code",
   "execution_count": 14,
   "metadata": {
    "collapsed": true
   },
   "outputs": [],
   "source": [
    "factor = ParameterFrame(gs.F_list, 'factor_estimation')\n",
    "factor_trace_estimation = factor.get_trace_df()\n",
    "factor_trace_estimation.to_pickle('data//probit_v2_estimation_factor_trace_df.pkl')"
   ]
  },
  {
   "cell_type": "code",
   "execution_count": 15,
   "metadata": {
    "collapsed": true
   },
   "outputs": [],
   "source": [
    "ystar = ParameterFrame(gs.Ystar_list, 'ystar')\n",
    "ystar_trace_estimation = ystar.get_trace_df()\n",
    "ystar_trace_estimation.to_pickle('data//probit_v2_ystar_trace_df.pkl')"
   ]
  },
  {
   "cell_type": "code",
   "execution_count": 16,
   "metadata": {
    "collapsed": true
   },
   "outputs": [],
   "source": [
    "tau_trace = generate_Tau_trace_df(gs.Tau_list)\n",
    "tau_trace.to_pickle('data//probit_v2_tau_trace_df.pkl')"
   ]
  },
  {
   "cell_type": "code",
   "execution_count": null,
   "metadata": {
    "collapsed": true
   },
   "outputs": [],
   "source": []
  }
 ],
 "metadata": {
  "kernelspec": {
   "display_name": "Python 3 (sm)",
   "language": "python",
   "name": "stat18"
  },
  "language_info": {
   "codemirror_mode": {
    "name": "ipython",
    "version": 3
   },
   "file_extension": ".py",
   "mimetype": "text/x-python",
   "name": "python",
   "nbconvert_exporter": "python",
   "pygments_lexer": "ipython3",
   "version": "3.5.6"
  }
 },
 "nbformat": 4,
 "nbformat_minor": 2
}
