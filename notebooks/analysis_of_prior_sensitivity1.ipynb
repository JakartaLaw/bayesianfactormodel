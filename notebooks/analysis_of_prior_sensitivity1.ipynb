{
 "cells": [
  {
   "cell_type": "code",
   "execution_count": 1,
   "metadata": {
    "collapsed": true
   },
   "outputs": [],
   "source": [
    "import pandas as pd\n",
    "import numpy as np\n",
    "from numpy import linalg\n",
    "import matplotlib.pyplot as plt\n",
    "import seaborn as sbn"
   ]
  },
  {
   "cell_type": "code",
   "execution_count": 2,
   "metadata": {},
   "outputs": [
    {
     "name": "stdout",
     "output_type": "stream",
     "text": [
      "now in dir:  /Users/Jeppe/Projects/BayesFactorModel\n"
     ]
    }
   ],
   "source": [
    "from notebookutils import root_dir, corr_plot; root_dir()"
   ]
  },
  {
   "cell_type": "code",
   "execution_count": 3,
   "metadata": {
    "collapsed": true
   },
   "outputs": [],
   "source": [
    "from model.utils import read_party_keys, party_name_from_key\n",
    "from model.distributionplotter import DistributionPlotter\n",
    "from model.traceplotter import TracePlotter\n",
    "from model.parameterframe import ParameterFrame\n",
    "from model.parameters import Parameters\n",
    "from model.plotter import Plotter"
   ]
  },
  {
   "cell_type": "code",
   "execution_count": 4,
   "metadata": {
    "collapsed": true
   },
   "outputs": [],
   "source": [
    "beta_trace = pd.read_pickle(\"data//priorsensitivity1_beta_trace_df.pkl\")\n",
    "sigma_trace = pd.read_pickle(\"data//priorsensitivity1_sigma_trace_df.pkl\")\n",
    "factor_trace = pd.read_pickle(\"data//priorsensitivity1_factor_trace_df.pkl\")"
   ]
  },
  {
   "cell_type": "code",
   "execution_count": 5,
   "metadata": {
    "collapsed": true
   },
   "outputs": [],
   "source": [
    "plt.rcdefaults()"
   ]
  },
  {
   "cell_type": "code",
   "execution_count": 6,
   "metadata": {
    "collapsed": true
   },
   "outputs": [],
   "source": [
    "order = ['q2', 'q8', 'q0', 'q1', 'q3', 'q4','q5','q6','q7','q9', 'q10', 'q11', 'q12', 'q13', 'q14']"
   ]
  },
  {
   "cell_type": "code",
   "execution_count": 7,
   "metadata": {
    "collapsed": true
   },
   "outputs": [],
   "source": [
    "labels = read_party_keys()"
   ]
  },
  {
   "cell_type": "code",
   "execution_count": 8,
   "metadata": {},
   "outputs": [],
   "source": [
    "tp = TracePlotter(sigma_trace)\n",
    "f = tp.plot_diagonal_traces(skip_obs=200)\n",
    "f.savefig('figs//priorsensitivity1_trace_sigma_plot.png')"
   ]
  },
  {
   "cell_type": "code",
   "execution_count": 9,
   "metadata": {},
   "outputs": [],
   "source": [
    "dp = DistributionPlotter(sigma_trace, 0.05)\n",
    "f = dp.plot_diagonal_hists(skip_obs = 200)\n",
    "f.savefig('figs//priorsensitivity1_dist_sigma_plot.png')"
   ]
  },
  {
   "cell_type": "code",
   "execution_count": 10,
   "metadata": {},
   "outputs": [],
   "source": [
    "tp = TracePlotter(beta_trace)\n",
    "f = tp.plot_4x4_traces(skip_obs=200)\n",
    "f.savefig('figs//priorsensitivity1_trace_beta_plot.png')"
   ]
  },
  {
   "cell_type": "code",
   "execution_count": 11,
   "metadata": {},
   "outputs": [],
   "source": [
    "dp = DistributionPlotter(beta_trace, 0.1)\n",
    "f = dp.plot_4x4_hists( skip_obs = 100)\n",
    "f.savefig('figs//priorsensitivity1_dist_beta_plot.png')"
   ]
  },
  {
   "cell_type": "code",
   "execution_count": 12,
   "metadata": {
    "collapsed": true
   },
   "outputs": [],
   "source": [
    "beta = Parameters(beta_trace)\n",
    "beta._calc_param_mean_dict(1000)"
   ]
  },
  {
   "cell_type": "code",
   "execution_count": 13,
   "metadata": {
    "collapsed": true
   },
   "outputs": [],
   "source": [
    "F = Parameters(factor_trace)\n",
    "F._calc_param_mean_dict(1000)\n",
    "factors = F.params_to_df()"
   ]
  },
  {
   "cell_type": "code",
   "execution_count": 14,
   "metadata": {
    "collapsed": true
   },
   "outputs": [],
   "source": [
    "factors['party_names'] = [party_name_from_key(label) for label in labels]"
   ]
  },
  {
   "cell_type": "code",
   "execution_count": 15,
   "metadata": {},
   "outputs": [],
   "source": [
    "tmp = factors.loc[(factors['party_names'] == 'Venstre, Danmarks Liberale Parti') | (factors['party_names'] == 'Socialdemokratiet')]\n",
    "scatter_v_s = sbn.pairplot(tmp, hue='party_names', diag_kind='kde', plot_kws={'alpha': 0.2})\n",
    "scatter_v_s.savefig('figs//priorsensitivity1_scatter_v_df.png')\n",
    "\n"
   ]
  },
  {
   "cell_type": "code",
   "execution_count": 16,
   "metadata": {},
   "outputs": [],
   "source": [
    "tmp = factors.loc[(factors['party_names'] == 'Radikale Venstre') | (factors['party_names'] == 'Dansk Folkeparti')]\n",
    "scatter_rv_df = sbn.pairplot(tmp, hue='party_names', diag_kind='kde', plot_kws={'alpha': 0.2})\n",
    "scatter_rv_df.savefig('figs//priorsensitivity1_scatter_rv_df.png')\n"
   ]
  },
  {
   "cell_type": "code",
   "execution_count": 17,
   "metadata": {},
   "outputs": [],
   "source": [
    "tmp = factors.loc[(factors['party_names'] == 'Venstre, Danmarks Liberale Parti') | (factors['party_names'] == 'Dansk Folkeparti')]\n",
    "scatter_v_df = sbn.pairplot(tmp, hue='party_names', diag_kind='kde', plot_kws={'alpha': 0.2})\n",
    "scatter_v_df.savefig('figs//priorsensitivity1_scatter_v_df.png')\n"
   ]
  },
  {
   "cell_type": "code",
   "execution_count": 18,
   "metadata": {},
   "outputs": [
    {
     "data": {
      "text/plain": [
       "{'Alternativet',\n",
       " 'Dansk Folkeparti',\n",
       " 'Det Konservative Folkeparti',\n",
       " 'Enhedslisten - De Rød-Grønne',\n",
       " 'Liberal Alliance',\n",
       " 'Nye Borgerlige',\n",
       " 'Radikale Venstre',\n",
       " 'SF - Socialistisk Folkeparti',\n",
       " 'Socialdemokratiet',\n",
       " 'Venstre, Danmarks Liberale Parti'}"
      ]
     },
     "execution_count": 18,
     "metadata": {},
     "output_type": "execute_result"
    }
   ],
   "source": [
    "set(factors['party_names'])"
   ]
  },
  {
   "cell_type": "code",
   "execution_count": 19,
   "metadata": {},
   "outputs": [],
   "source": [
    "tmp = factors.loc[(factors['party_names'] == 'Liberal Alliance') | (factors['party_names'] == 'Enhedslisten - De Rød-Grønne')]\n",
    "scatter_la_el = sbn.pairplot(tmp, hue='party_names', diag_kind='kde', plot_kws={'alpha': 0.2})\n",
    "scatter_la_el.savefig('figs//priorsensitivity1_scatter_la_el.png')\n",
    "\n"
   ]
  },
  {
   "cell_type": "code",
   "execution_count": 20,
   "metadata": {},
   "outputs": [],
   "source": [
    "tmp = factors.loc[(factors['party_names'] == 'Venstre, Danmarks Liberale Parti') | (factors['party_names'] == 'Det Konservative Folkeparti')]\n",
    "scatter_v_c = sbn.pairplot(tmp, hue='party_names', diag_kind='kde', plot_kws={'alpha': 0.2})\n",
    "scatter_v_c.savefig('figs//priorsensitivity1_scatter_v_c.png')\n"
   ]
  },
  {
   "cell_type": "code",
   "execution_count": 21,
   "metadata": {
    "collapsed": true
   },
   "outputs": [],
   "source": [
    "loadings = beta.params_to_df()"
   ]
  },
  {
   "cell_type": "code",
   "execution_count": 22,
   "metadata": {
    "collapsed": true
   },
   "outputs": [],
   "source": [
    "loadings['question'] = order"
   ]
  },
  {
   "cell_type": "code",
   "execution_count": 23,
   "metadata": {},
   "outputs": [
    {
     "name": "stdout",
     "output_type": "stream",
     "text": [
      "\\begin{tabular}{lrrr}\n",
      "\\toprule\n",
      "{} &     0 &     1 &     2 \\\\\n",
      "question &       &       &       \\\\\n",
      "\\midrule\n",
      "q2       &  2.95 &  0.00 &  0.00 \\\\\n",
      "q8       &  2.61 &  0.92 &  0.00 \\\\\n",
      "q0       &  2.65 & -0.15 &  0.02 \\\\\n",
      "q1       &  2.68 &  0.11 & -0.60 \\\\\n",
      "q3       &  3.43 &  0.15 & -0.33 \\\\\n",
      "q4       &  3.35 &  0.79 & -1.86 \\\\\n",
      "q5       &  3.40 &  1.05 & -1.96 \\\\\n",
      "q6       &  3.57 &  0.74 & -1.93 \\\\\n",
      "q7       &  2.35 &  0.23 & -2.06 \\\\\n",
      "q9       &  2.02 &  0.35 & -0.11 \\\\\n",
      "q10      &  3.54 &  0.22 & -0.59 \\\\\n",
      "q11      &  3.61 &  0.81 & -2.04 \\\\\n",
      "q12      &  3.28 &  0.41 & -0.18 \\\\\n",
      "q13      &  3.25 &  0.78 & -1.39 \\\\\n",
      "q14      &  2.20 &  0.73 & -2.06 \\\\\n",
      "\\bottomrule\n",
      "\\end{tabular}\n",
      "\n"
     ]
    }
   ],
   "source": [
    "latex_loadings = loadings.round(2)\n",
    "latex_loadings.set_index('question', inplace=True)\n",
    "print(latex_loadings.to_latex())"
   ]
  },
  {
   "cell_type": "code",
   "execution_count": null,
   "metadata": {
    "collapsed": true
   },
   "outputs": [],
   "source": []
  }
 ],
 "metadata": {
  "kernelspec": {
   "display_name": "Python 3 (factormodel)",
   "language": "python",
   "name": "factormodel"
  },
  "language_info": {
   "codemirror_mode": {
    "name": "ipython",
    "version": 3
   },
   "file_extension": ".py",
   "mimetype": "text/x-python",
   "name": "python",
   "nbconvert_exporter": "python",
   "pygments_lexer": "ipython3",
   "version": "3.6.5"
  }
 },
 "nbformat": 4,
 "nbformat_minor": 2
}
