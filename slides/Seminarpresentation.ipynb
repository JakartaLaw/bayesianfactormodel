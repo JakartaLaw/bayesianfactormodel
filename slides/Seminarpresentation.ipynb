{
 "cells": [
  {
   "cell_type": "markdown",
   "metadata": {
    "slideshow": {
     "slide_type": "slide"
    }
   },
   "source": [
    "## 1. Exploring political differences through latent factor analysis\n",
    "\n",
    "- Motivation\n",
    "    - Political spectrum is usually considered 1-dimensional\n",
    "    - Latent factor analysis has in other instances been used to understand human actions and motivatation\n",
    "\n",
    "\n",
    "- Overview of project\n",
    "    - Survey data\n",
    "    - Naive Bayesian latent factor analysis\n",
    "    - Extension with ordered probit to accomadate the discrete nature of the data\n"
   ]
  },
  {
   "cell_type": "markdown",
   "metadata": {
    "slideshow": {
     "slide_type": "slide"
    }
   },
   "source": [
    "## 2. Introduction to factor models\n",
    "\n",
    "\\begin{equation}\n",
    "    \\underset{(p \\times 1)}{y_i} = \\underset{(p \\times k)}{\\beta} \\underset{(k \\times 1)}{F_i} + \\underset{(p \\times 1)}{\\epsilon_i}\n",
    "\\end{equation}\n",
    "\n",
    "for $i=1,...,T$ individuals. $\\beta$ denotes the factor loadings and F are the factor scores\n",
    "\n",
    "\\begin{equation}\n",
    "    \\epsilon \\sim I.I.D.N(0,\\Sigma)\n",
    "\\end{equation}\n",
    "\n",
    "\\begin{equation}\n",
    "    \\underset{(p \\times p)}{var(y)} = \\underset{(p \\times k)(k \\times k)(k \\times p)}{\\beta\\psi\\beta'} + \\underset{(p \\times p)}{\\Sigma} = \\underset{(p \\times p)}{\\Omega}\n",
    "\\end{equation}\n",
    "\n",
    "where a normal assumption is... \n",
    "\n",
    "\\begin{equation}\n",
    "    \\psi = I_k\n",
    "\\end{equation}\n",
    "\n",
    "<img style=\"float\" src=\"factorloading.jpeg\" width=\"300\">"
   ]
  },
  {
   "cell_type": "markdown",
   "metadata": {
    "slideshow": {
     "slide_type": "slide"
    }
   },
   "source": [
    "## 3. Naive Factor model\n",
    "\n",
    "\\begin{equation}\n",
    "    \\underset{(p \\times t)}{y} = \\underset{(p \\times t)}{\\beta} \\underset{(k \\times t)}{F} + \\underset{(p \\times t)}{\\epsilon}\n",
    "\\end{equation}\n",
    "\n",
    "\n",
    "Mispecification!\n",
    "                                                     \n",
    "                                                     \n",
    "\\begin{equation}\n",
    "    p(\\beta \\vert y, \\Sigma, F) \\propto P(Y \\vert \\beta, F, \\Sigma)P(\\beta)\n",
    "\\end{equation}\n",
    "                                                     \n",
    "                                                     \n",
    "\n"
   ]
  },
  {
   "cell_type": "markdown",
   "metadata": {
    "slideshow": {
     "slide_type": "slide"
    }
   },
   "source": [
    "## 4. Naive Factor model 2\n",
    "\n",
    "For Q being an orthogonal matrix $Q\\cdot Q' = I_k$, we have the following problem:\n",
    "\n",
    "define new factor loading matrix s.t. $\\tilde\\beta = \\beta Q'$\n",
    "\n",
    "\\begin{equation}\n",
    "    var(y) = \\tilde\\beta \\tilde\\beta' + \\Sigma =  \\beta Q'(\\beta Q') + \\Sigma = \\beta\\beta' + \\Sigma\n",
    "\\end{equation}\n",
    "                                    ....No identification!\n",
    "                                    \n",
    "\\begin{array}{lcr}\n",
    "\\beta_{11} & 0 & 0 \\\\\n",
    "\\beta_{11} & \\beta_{22} & 0 \\\\\n",
    "\\beta_{31} & \\beta_{32} & \\beta_{33} \\\\\n",
    "... & ... & ... \\\\\n",
    "\\beta_{p1} & \\beta_{p2} & \\beta_{p3} \\\\ \\end{array}\n",
    "\n",
    "\n",
    "Second problem: Sign switching matrix\n",
    "\n"
   ]
  },
  {
   "cell_type": "markdown",
   "metadata": {
    "slideshow": {
     "slide_type": "slide"
    }
   },
   "source": [
    "## 5. Ordered probit Factor Model\n",
    "\n",
    "\\begin{equation}\n",
    "    Y_i = l \\text{ if } \\tau_{l-1}\\leq Y_i^* \\leq \\tau_{l}\\text{ for l=1,2,3,4}\n",
    "\\end{equation}\n",
    "\n",
    "\\begin{equation}\n",
    "    Y^*_i = \\beta F_i + \\epsilon_i\n",
    "\\end{equation}\n",
    "\n",
    "<img style=\"float\" src=\"gaussian.png\" width=\"300\">\n",
    "\n",
    "Posterior:\n",
    "\\begin{equation}\n",
    "    P(\\beta \\vert Y^*, Y, \\tau, F) \\propto  P(Y \\vert Y^*, \\tau)P(Y^*\\vert \\beta, F)P(\\beta)P(F)\n",
    "\\end{equation}\n"
   ]
  },
  {
   "cell_type": "markdown",
   "metadata": {
    "slideshow": {
     "slide_type": "slide"
    }
   },
   "source": [
    "## 6. Probit Factor Model\n",
    "\n",
    "In order to properly identify the model we do the following:\n",
    "\n",
    "\\begin{equation}\n",
    "    \\Sigma = I_p\n",
    "\\end{equation}\n",
    "\n",
    "If we include a constant term, we would have to fix one of our $\\tau=0$, but we don't\n",
    "\n",
    "\\begin{equation}\n",
    "    Y^* \\sim TN_{[\\tau_l, \\tau_{l+1}]}(\\beta F; 1)\n",
    "\\end{equation}\n",
    "\n",
    "\\begin{equation}\n",
    "    \\tau_l \\sim U[\\underline{\\tau_l};\\bar{\\tau_l}]\n",
    "\\end{equation}\n",
    "\n"
   ]
  },
  {
   "cell_type": "markdown",
   "metadata": {
    "slideshow": {
     "slide_type": "slide"
    }
   },
   "source": [
    "## 7. Data, simulations and factor loading\n",
    "\n",
    "- Data\n",
    "    - Survey data from municipality elections 2017 (KV17)\n",
    "    - Politicians answered questionaire of 15 questions by the danish broadcasting service\n",
    "    - 1200 answers by the largest danish parties used in analysis\n",
    "    - dataset of size 15 variables and 1200 rows\n",
    "    \n",
    "    \n",
    "- Simulations\n",
    "    - To test if our algorithm converges 2 test data strategies utilized:\n",
    "    - Strategy 1: simulate from 3 underlying factors\n",
    "    - Strategy 2: Use cholesky decomposition to create dataset with correct covariance matrix\n",
    "    - Both had fast convergence\n",
    "    \n",
    "    \n",
    "- Factor loading\n",
    "    - Upper triangular matrix require we think about the ordering of the questions\n",
    "    - 2 first questions should be different in nature (which latent factor the questions represent)\n",
    "        + loads only to factor 0: _Municipality tax should be reduced_\n",
    "        + loads only to factor 0 & 1: _Institutions run by local authorities takes to much into consideration the concerns of religious minorities._\n"
   ]
  },
  {
   "cell_type": "markdown",
   "metadata": {
    "slideshow": {
     "slide_type": "slide"
    }
   },
   "source": [
    "## 8. Results Naive - Trace and distribution of $\\beta$ \n",
    "\n",
    "\n",
    "\n",
    "<table>\n",
    "<tr>\n",
    "    <td> <img src=\"estimation_trace_beta_plot.png\", width = 400> </td>\n",
    "    <td> <img src=\"estimation_dist_beta_plot.png\", width = 400> </td>\n",
    "</tr>\n",
    "</table>"
   ]
  },
  {
   "cell_type": "markdown",
   "metadata": {
    "slideshow": {
     "slide_type": "slide"
    }
   },
   "source": [
    "## 9. Results Naive - scatter plots 1\n",
    "\n",
    "\n",
    "<table>\n",
    "<tr>\n",
    "    <td> <img src=\"estimation_scatter_la_el.png\", width = 450> </td>\n",
    "    <td> <img src=\"estimation_scatter_rv_df.png\", width = 450> </td>\n",
    "</tr>\n",
    "</table>\n",
    "\n"
   ]
  },
  {
   "cell_type": "markdown",
   "metadata": {
    "slideshow": {
     "slide_type": "slide"
    }
   },
   "source": [
    "## 9. Results Naive - scatter plots 2 \n",
    "\n",
    "<table>\n",
    "<tr>\n",
    "    <td> <img src=\"estimation_scatter_v_c.png\", width = 450> </td>\n",
    "    <td> <img src=\"estimation_scatter_v_sd.png\", width = 450> </td>\n",
    "</tr>\n",
    "</table>\n"
   ]
  },
  {
   "cell_type": "markdown",
   "metadata": {
    "slideshow": {
     "slide_type": "slide"
    }
   },
   "source": [
    "## 10. Feedback/issues\n",
    "\n",
    "- Computation issues\n",
    "- Factor loading matrix - not what expected\n",
    "- Unknown unknowns"
   ]
  },
  {
   "cell_type": "code",
   "execution_count": null,
   "metadata": {
    "collapsed": true
   },
   "outputs": [],
   "source": []
  }
 ],
 "metadata": {
  "celltoolbar": "Slideshow",
  "kernelspec": {
   "display_name": "Python 3",
   "language": "python",
   "name": "python3"
  },
  "language_info": {
   "codemirror_mode": {
    "name": "ipython",
    "version": 3
   },
   "file_extension": ".py",
   "mimetype": "text/x-python",
   "name": "python",
   "nbconvert_exporter": "python",
   "pygments_lexer": "ipython3",
   "version": "3.6.5"
  }
 },
 "nbformat": 4,
 "nbformat_minor": 2
}
