{
 "cells": [
  {
   "cell_type": "markdown",
   "metadata": {},
   "source": [
    "## 1. Præsentation af projektet (Jeppe)"
   ]
  },
  {
   "cell_type": "markdown",
   "metadata": {},
   "source": [
    "## 2. Introduktion til Faktormodeller\n",
    "\n",
    "\\begin{equation}\n",
    "    \\underset{(p \\times 1)}{y_i} = \\underset{(p \\times k)}{\\beta} \\underset{(k \\times 1)}{F_i} + \\underset{(p \\times 1)}{\\epsilon_i}\n",
    "\\end{equation}\n",
    "\n",
    "for $i=1,...,T$ individuals. $\\beta$ denotes the factor loadings and F are the factor scores\n",
    "\n",
    "\\begin{equation}\n",
    "    \\epsilon \\sim I.I.D.N(0,\\Sigma)\n",
    "\\end{equation}\n",
    "\n",
    "\\begin{equation}\n",
    "    \\underset{(p \\times p)}{var(y)} = \\underset{(p \\times k)(k \\times k)(k \\times p)}{\\beta\\psi\\beta'} + \\underset{(p \\times p)}{\\Sigma} = \\underset{(p \\times p)}{\\Omega}\n",
    "\\end{equation}\n",
    "\n",
    "where a normal assumption is... \n",
    "\n",
    "\\begin{equation}\n",
    "    \\psi = I_k\n",
    "\\end{equation}"
   ]
  },
  {
   "cell_type": "markdown",
   "metadata": {},
   "source": [
    "## 3. Naive Factor model (Jonas)"
   ]
  },
  {
   "cell_type": "markdown",
   "metadata": {},
   "source": [
    "## 4. Naive Factor model 2 (Jonas)"
   ]
  },
  {
   "cell_type": "markdown",
   "metadata": {},
   "source": [
    "## 5. Ordered probit Factor Model\n",
    "\n",
    "\\begin{equation}\n",
    "    Y_i = l \\text{ if } \\tau_{l-1}\\leq Y_i^* \\leq \\tau_{l}\\text{ for l=1,2,3,4}\n",
    "\\end{equation}\n",
    "\n",
    "\\begin{equation}\n",
    "    Y^*_i = \\beta F_i + \\epsilon_i\n",
    "\\end{equation}\n",
    "\n",
    "<img style=\"float\" src=\"gaussian.png\">\n",
    "\n",
    "Posterior:\n",
    "\\begin{equation}\n",
    "    P(\\beta \\vert Y^*, Y, \\tau, F) \\propto  P(Y \\vert Y^*, \\tau)P(Y^*\\vert \\beta, F)P(\\beta)P(F)\n",
    "\\end{equation}\n"
   ]
  },
  {
   "cell_type": "markdown",
   "metadata": {},
   "source": [
    "## 6. Probit Factor Model\n",
    "\n",
    "In order to properly identify the model we do the following:\n",
    "\n",
    "\\begin{equation}\n",
    "    \\Sigma = I_p\n",
    "\\end{equation}\n",
    "\n",
    "If we include a constant term, we would have to fix one of our $\\tau=0$, but we don't\n",
    "\n",
    "\\begin{equation}\n",
    "    Y^* \\sim TN_{[\\tau_l, \\tau_{l+1}]}(\\beta F; 1)\n",
    "\\end{equation}\n",
    "\n",
    "\\begin{equation}\n",
    "    \\tau_l \\sim U[\\underline{\\tau_l};\\bar{\\tau_l}]\n",
    "\\end{equation}\n",
    "\n"
   ]
  },
  {
   "cell_type": "markdown",
   "metadata": {},
   "source": [
    "## 7. Data etc. (Jeppe)"
   ]
  },
  {
   "cell_type": "markdown",
   "metadata": {},
   "source": [
    "## 8. Results Naive (Jeppe)"
   ]
  },
  {
   "cell_type": "markdown",
   "metadata": {},
   "source": [
    "## 9. Result Naive 2 (Jeppe)"
   ]
  },
  {
   "cell_type": "markdown",
   "metadata": {},
   "source": [
    "## 10. Feedback/issues (Jeppe)"
   ]
  }
 ],
 "metadata": {
  "kernelspec": {
   "display_name": "Python 3",
   "language": "python",
   "name": "python3"
  },
  "language_info": {
   "codemirror_mode": {
    "name": "ipython",
    "version": 3
   },
   "file_extension": ".py",
   "mimetype": "text/x-python",
   "name": "python",
   "nbconvert_exporter": "python",
   "pygments_lexer": "ipython3",
   "version": "3.6.5"
  }
 },
 "nbformat": 4,
 "nbformat_minor": 2
}
